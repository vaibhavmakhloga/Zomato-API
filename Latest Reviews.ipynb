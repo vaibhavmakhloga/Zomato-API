{
 "cells": [
  {
   "cell_type": "code",
   "execution_count": 9,
   "metadata": {},
   "outputs": [],
   "source": [
    "import pandas as pd\n",
    "import requests\n",
    "import json\n",
    "from requests.auth import HTTPBasicAuth\n",
    "import config\n",
    "import re"
   ]
  },
  {
   "cell_type": "code",
   "execution_count": 12,
   "metadata": {},
   "outputs": [],
   "source": [
    "header={\"X-Zomato-API-Key\":config.API_KEY}\n",
    "# To get reviews \n",
    "url='https://developers.zomato.com/api/v2.1/reviews?res_id=18241537'\n",
    "response=requests.get(url,headers=header,)\n",
    "data=response.json()"
   ]
  },
  {
   "cell_type": "code",
   "execution_count": 8,
   "metadata": {},
   "outputs": [
    {
     "name": "stdout",
     "output_type": "stream",
     "text": [
      "Total Reviews: 2658\n"
     ]
    }
   ],
   "source": [
    "print(f\"Total Reviews: {data['reviews_count']}\")"
   ]
  },
  {
   "cell_type": "code",
   "execution_count": 21,
   "metadata": {},
   "outputs": [
    {
     "name": "stdout",
     "output_type": "stream",
     "text": [
      "Barath Raj\n",
      "5\n",
      "\n",
      "-----------------\n",
      "Foodiesss Dil Se\n",
      "5\n",
      "I will recommend this place for those who are like me midnight hungry souls. I am already in love with their food so when I had the opportunity to try it in CP ,i didn't leave a chance. I placed my order for chicken duet tikka -5/5 this dish is love,the quality and quantity everything is so so good. Had 38 dal barracks- 5/5 this daal is my favorite as the tadka which they give is something you will always relish. I had all this with rice and the best part is its so pocket friendly. Do order and try their food as they serve the delicious food in town.\n",
      "-----------------\n",
      "Sonali Wankhede\n",
      "5\n",
      "nice place to order some delicious food.they delivers food on time. the quantity of the food they provide is good. packing was well done . ordered Thai spring roll and chilly fish from this place. the taste was nice. specially the spring roll was good.\\ the chilly fish was tasty and yummy. highly recommend place to order food\n",
      "-----------------\n",
      "Shama Ansari\n",
      "5\n",
      "One of the best place in terms of delicious food. I ordered soup and salad from this place. The soup was just awesome. The taste they made was good. The quantity and quality of the soup was nice. Salad was also good and perfectly made. As on diet I don't prefer much heavier food so I loved the salad also. The food they delivered on time. Must order from this place.\n",
      "-----------------\n",
      "Adesh Thavre\n",
      "5\n",
      "The best place to hangout with your friends and family situated in Connaught place,delhi. Best ambience with quality and quantity of food.  Service was best and food was tasty They too have alcohol service. And they have happy hours service.  They serve all types of food and alcohol brands. Dinning facility is also available with best customer service.  So must visit this outlet ♥️🔥\n",
      "-----------------\n"
     ]
    }
   ],
   "source": [
    "reviews=data['user_reviews']\n",
    "for i in range(len(reviews)):\n",
    "    print(reviews[i]['review']['user']['name'].strip())\n",
    "    print(reviews[i]['review']['rating'])\n",
    "    print(reviews[i]['review']['review_text'].strip())\n",
    "    print('-----------------')"
   ]
  }
 ],
 "metadata": {
  "kernelspec": {
   "display_name": "Python 3",
   "language": "python",
   "name": "python3"
  },
  "language_info": {
   "codemirror_mode": {
    "name": "ipython",
    "version": 3
   },
   "file_extension": ".py",
   "mimetype": "text/x-python",
   "name": "python",
   "nbconvert_exporter": "python",
   "pygments_lexer": "ipython3",
   "version": "3.7.1"
  }
 },
 "nbformat": 4,
 "nbformat_minor": 2
}
