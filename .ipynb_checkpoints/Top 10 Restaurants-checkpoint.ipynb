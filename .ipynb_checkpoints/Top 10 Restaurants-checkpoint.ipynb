{
 "cells": [
  {
   "cell_type": "markdown",
   "metadata": {},
   "source": [
    "Fetch the top 10 best-rated restaurant serving ‘Mexican’ cuisine present in Connaught Place.\n",
    "Print the restaurant name, user rating and restaurant id."
   ]
  },
  {
   "cell_type": "code",
   "execution_count": 6,
   "metadata": {},
   "outputs": [],
   "source": [
    "import pandas as pd\n",
    "import requests\n",
    "import json\n",
    "from requests.auth import HTTPBasicAuth\n",
    "import config"
   ]
  },
  {
   "cell_type": "code",
   "execution_count": 7,
   "metadata": {},
   "outputs": [
    {
     "name": "stdout",
     "output_type": "stream",
     "text": [
      "Mexican   :   73\n"
     ]
    }
   ],
   "source": [
    "# First we need to find the Cuisine ID for 'Mexican'\n",
    "header={\"X-Zomato-API-Key\":config.API_KEY}\n",
    "c=requests.get('https://api.zomato.com/v1/cuisines',\n",
    "               headers=header)\n",
    "data=c.json()\n",
    "data1=data['cuisines']\n",
    "#Accessing the Dictionary \n",
    "for i in data1:\n",
    "    if i['cuisine']['cuisine_name']=='Mexican': \n",
    "        print(i['cuisine']['cuisine_name'],'  :  ',i['cuisine']['cuisine_id'])"
   ]
  },
  {
   "cell_type": "code",
   "execution_count": 9,
   "metadata": {},
   "outputs": [
    {
     "name": "stdout",
     "output_type": "stream",
     "text": [
      "Connaught Place, New Delhi | subzone | 104\n"
     ]
    }
   ],
   "source": [
    "#The second step is todind the entity type and entity id for Connaught place\n",
    "parameters={\"user-key\":config.API_KEY,\"query\":\"Connaught Place\"}\n",
    "c=requests.get('https://api.zomato.com/v2.1/locations',headers=header,\n",
    "               params=parameters)\n",
    "data=c.json()\n",
    "data2=data['location_suggestions']\n",
    "print(data2[0]['title'],'|',data2[0]['entity_type'],'|',data2[0]['entity_id'])"
   ]
  },
  {
   "cell_type": "code",
   "execution_count": 23,
   "metadata": {},
   "outputs": [
    {
     "name": "stdout",
     "output_type": "stream",
     "text": [
      "Odeon Social 4.7 18246991\n",
      "38 Barracks 4.7 18241537\n",
      "Connaught Clubhouse 4.7 19295106\n",
      "Detroit 4.5 18625812\n",
      "Ministry Of Beer 4.5 18418277\n",
      "Chili's Grill & Bar 4.5 18537536\n",
      "Xero Degrees 4.4 18729557\n",
      "Station Bar 4.4 18851371\n",
      "The Luggage Room Kitchen And Bar 4.4 18337893\n",
      "Lord Of The Drinks 4.3 312603\n",
      "The Junkyard Cafe 4.3 313256\n"
     ]
    }
   ],
   "source": [
    "#Final step is to fetch the top 10 restaurants serving cuisine ID = 73, Entity_type = subzone and Entity_id = 104\n",
    "h={\"X-Zomato-API-Key\":config.API_KEY}\n",
    "\n",
    "# Forming the search query \n",
    "# Sorting according to Rating (fom high to low)\n",
    "get_url='https://developers.zomato.com/api/v2.1/search?entity_id=104&entity_type=subzone&count=11&cuisines=73&sort=rating'\n",
    "\n",
    "c=requests.get(get_url,headers=h,)\n",
    "data=c.json()\n",
    "result=data['restaurants']\n",
    "for i in result:\n",
    "    print(i['restaurant']['name'],i['restaurant']['user_rating']['aggregate_rating'],i['restaurant']['id'])"
   ]
  }
 ],
 "metadata": {
  "kernelspec": {
   "display_name": "Python 3",
   "language": "python",
   "name": "python3"
  },
  "language_info": {
   "codemirror_mode": {
    "name": "ipython",
    "version": 3
   },
   "file_extension": ".py",
   "mimetype": "text/x-python",
   "name": "python",
   "nbconvert_exporter": "python",
   "pygments_lexer": "ipython3",
   "version": "3.7.1"
  }
 },
 "nbformat": 4,
 "nbformat_minor": 2
}
