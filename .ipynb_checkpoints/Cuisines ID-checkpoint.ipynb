{
 "cells": [
  {
   "cell_type": "code",
   "execution_count": 1,
   "metadata": {},
   "outputs": [],
   "source": [
    "import pandas as pd\n",
    "import requests\n",
    "import json\n",
    "from requests.auth import HTTPBasicAuth\n",
    "import config"
   ]
  },
  {
   "cell_type": "code",
   "execution_count": 2,
   "metadata": {},
   "outputs": [
    {
     "data": {
      "text/plain": [
       "200"
      ]
     },
     "execution_count": 2,
     "metadata": {},
     "output_type": "execute_result"
    }
   ],
   "source": [
    "# Making the get request using the API-Key\n",
    "#To get all the cuisines along with their IDs\n",
    "header={\"X-Zomato-API-Key\":config.API_KEY}\n",
    "c=requests.get('https://api.zomato.com/v1/cuisines',\n",
    "               headers=header)\n",
    "c.status_code"
   ]
  },
  {
   "cell_type": "code",
   "execution_count": 3,
   "metadata": {},
   "outputs": [
    {
     "data": {
      "text/plain": [
       "dict"
      ]
     },
     "execution_count": 3,
     "metadata": {},
     "output_type": "execute_result"
    }
   ],
   "source": [
    "#Data is returned in the form of a dictionary \n",
    "data=c.json()\n",
    "type(data)"
   ]
  },
  {
   "cell_type": "code",
   "execution_count": 4,
   "metadata": {},
   "outputs": [],
   "source": [
    "data1=data['cuisines']"
   ]
  },
  {
   "cell_type": "code",
   "execution_count": 5,
   "metadata": {},
   "outputs": [
    {
     "name": "stdout",
     "output_type": "stream",
     "text": [
      "Afghan   :   1035\n",
      "African   :   152\n",
      "American   :   1\n",
      "Andhra   :   2\n",
      "Arabian   :   4\n",
      "Armenian   :   175\n",
      "Asian   :   3\n",
      "Assamese   :   165\n",
      "Awadhi   :   292\n",
      "BBQ   :   193\n",
      "Bakery   :   5\n",
      "Bar Food   :   227\n",
      "Belgian   :   132\n",
      "Bengali   :   10\n",
      "Beverages   :   270\n",
      "Bihari   :   1013\n",
      "Biryani   :   7\n",
      "Brazilian   :   159\n",
      "British   :   133\n",
      "Bubble Tea   :   247\n",
      "Burger   :   168\n",
      "Burmese   :   22\n",
      "Cafe   :   30\n",
      "Cantonese   :   121\n",
      "Charcoal Chicken   :   994\n",
      "Chettinad   :   18\n",
      "Chinese   :   25\n",
      "Coffee   :   1040\n",
      "Continental   :   35\n",
      "Cuisine Varies   :   1014\n",
      "Desserts   :   100\n",
      "Ethiopian   :   149\n",
      "European   :   38\n",
      "Fast Food   :   40\n",
      "Finger Food   :   271\n",
      "French   :   45\n",
      "Frozen Yogurt   :   501\n",
      "Goan   :   47\n",
      "Greek   :   156\n",
      "Gujarati   :   48\n",
      "Healthy Food   :   143\n",
      "Hot dogs   :   1026\n",
      "Hyderabadi   :   49\n",
      "Ice Cream   :   233\n",
      "Indonesian   :   114\n",
      "Iranian   :   140\n",
      "Israeli   :   218\n",
      "Italian   :   55\n",
      "Japanese   :   60\n",
      "Juices   :   164\n",
      "Kashmiri   :   65\n",
      "Kebab   :   178\n",
      "Kerala   :   62\n",
      "Korean   :   67\n",
      "Lebanese   :   66\n",
      "Lucknowi   :   157\n",
      "Maharashtrian   :   102\n",
      "Malaysian   :   69\n",
      "Malwani   :   71\n",
      "Mangalorean   :   72\n",
      "Mediterranean   :   70\n",
      "Mexican   :   73\n",
      "Middle Eastern   :   137\n",
      "Mishti   :   1041\n",
      "Mithai   :   1015\n",
      "Modern Indian   :   1018\n",
      "Momos   :   1051\n",
      "Moroccan   :   147\n",
      "Mughlai   :   75\n",
      "Naga   :   166\n",
      "Nepalese   :   117\n",
      "North Eastern   :   231\n",
      "North Indian   :   50\n",
      "Odia   :   1057\n",
      "Paan   :   1048\n",
      "Pakistani   :   139\n",
      "Panini   :   989\n",
      "Parsi   :   290\n",
      "Pizza   :   82\n",
      "Poké   :   1019\n",
      "Portuguese   :   87\n",
      "Rajasthani   :   88\n",
      "Raw Meats   :   27\n",
      "Roast Chicken   :   1005\n",
      "Rolls   :   1023\n",
      "Russian   :   84\n",
      "Salad   :   998\n",
      "Sandwich   :   304\n",
      "Seafood   :   83\n",
      "Sindhi   :   993\n",
      "Singaporean   :   119\n",
      "South American   :   972\n",
      "South Indian   :   85\n",
      "Spanish   :   89\n",
      "Sri Lankan   :   86\n",
      "Steak   :   141\n",
      "Street Food   :   90\n",
      "Sushi   :   177\n",
      "Tamil   :   1054\n",
      "Tea   :   163\n",
      "Tex-Mex   :   150\n",
      "Thai   :   95\n",
      "Tibetan   :   93\n",
      "Turkish   :   142\n",
      "Vietnamese   :   99\n",
      "Wraps   :   1024\n"
     ]
    }
   ],
   "source": [
    "# Accessing the dict \n",
    "for i in data1:\n",
    "    print(i['cuisine']['cuisine_name'],'  :  ',i['cuisine']['cuisine_id'])"
   ]
  }
 ],
 "metadata": {
  "kernelspec": {
   "display_name": "Python 3",
   "language": "python",
   "name": "python3"
  },
  "language_info": {
   "codemirror_mode": {
    "name": "ipython",
    "version": 3
   },
   "file_extension": ".py",
   "mimetype": "text/x-python",
   "name": "python",
   "nbconvert_exporter": "python",
   "pygments_lexer": "ipython3",
   "version": "3.7.1"
  }
 },
 "nbformat": 4,
 "nbformat_minor": 2
}
