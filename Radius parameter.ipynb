{
 "cells": [
  {
   "cell_type": "markdown",
   "metadata": {},
   "source": [
    "Find Top rated restaurants within a radius of a given location"
   ]
  },
  {
   "cell_type": "code",
   "execution_count": 1,
   "metadata": {},
   "outputs": [],
   "source": [
    "import pandas as pd\n",
    "import requests\n",
    "import json\n",
    "from requests.auth import HTTPBasicAuth\n",
    "import config \n",
    "import re"
   ]
  },
  {
   "cell_type": "code",
   "execution_count": 3,
   "metadata": {},
   "outputs": [],
   "source": [
    "radius='4000' #In meters\n",
    "latitude='28.697552'\n",
    "longitude='77.140622'\n",
    "count='10'\n",
    "sort='rating'"
   ]
  },
  {
   "cell_type": "code",
   "execution_count": 7,
   "metadata": {},
   "outputs": [],
   "source": [
    "url=f'https://developers.zomato.com/api/v2.1/search?count={count}&lat={latitude}&lon={longitude}&radius={radius}&sort={sort}'"
   ]
  },
  {
   "cell_type": "code",
   "execution_count": 9,
   "metadata": {},
   "outputs": [
    {
     "name": "stdout",
     "output_type": "stream",
     "text": [
      "Indian Accent 4.9 2004 The Lodhi, Lodhi Road\n",
      "Dana Choga 4.9 549 Sector 14\n",
      "The Yellow Chilli 4.9 1345 Pacific Mall, Sahibabad\n",
      "Son Of A Bun 4.9 19300210 Golf Course Road\n",
      "Hauz Khas Social 4.8 308322 Hauz Khas Village\n",
      "Ah So Yum 4.8 18945610 Golf Course Road\n",
      "Doodle's Garden 4.8 19081152 Punjabi Bagh\n",
      "Vasant Kunj Social 4.8 18922855 Ambience Mall, Vasant Kunj\n",
      "Chili's Grill & Bar 4.8 18607069 Pacific Mall, Tagore Garden\n",
      "Chili's Grill & Bar 4.8 7957 Ambience Mall, DLF Phase 3\n"
     ]
    }
   ],
   "source": [
    "h={\"X-Zomato-API-Key\":config.API_KEY}\n",
    "c=requests.get(url,headers=h,)\n",
    "data=c.json()\n",
    "get=data['restaurants']\n",
    "for i in range(len(get)):\n",
    "    print(get[i]['restaurant']['name'],get[i]['restaurant']['user_rating']['aggregate_rating'],get[i]['restaurant']['id'],get[i]['restaurant']['location']['locality'])"
   ]
  }
 ],
 "metadata": {
  "kernelspec": {
   "display_name": "Python 3",
   "language": "python",
   "name": "python3"
  },
  "language_info": {
   "codemirror_mode": {
    "name": "ipython",
    "version": 3
   },
   "file_extension": ".py",
   "mimetype": "text/x-python",
   "name": "python",
   "nbconvert_exporter": "python",
   "pygments_lexer": "ipython3",
   "version": "3.7.1"
  }
 },
 "nbformat": 4,
 "nbformat_minor": 2
}
