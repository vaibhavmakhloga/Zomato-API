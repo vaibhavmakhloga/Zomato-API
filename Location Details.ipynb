{
 "cells": [
  {
   "cell_type": "code",
   "execution_count": 5,
   "metadata": {},
   "outputs": [],
   "source": [
    "import pandas as pd\n",
    "import requests\n",
    "import json\n",
    "from requests.auth import HTTPBasicAuth\n",
    "import config"
   ]
  },
  {
   "cell_type": "markdown",
   "metadata": {},
   "source": [
    "FETCH ENTITY TYPE, ENTITY ID, LATITUDE AND LONGITUDE OF CONNAUGHT PLACE "
   ]
  },
  {
   "cell_type": "code",
   "execution_count": 6,
   "metadata": {},
   "outputs": [],
   "source": [
    "header={\"X-Zomato-API-Key\":config.API_KEY}\n",
    "parameters={\"user-key\":config.API_KEY,\"query\":\"Connaught Place\"}\n",
    "c=requests.get('https://api.zomato.com/v2.1/locations',headers=header,\n",
    "               params=parameters)"
   ]
  },
  {
   "cell_type": "code",
   "execution_count": 13,
   "metadata": {},
   "outputs": [
    {
     "data": {
      "text/plain": [
       "{'location_suggestions': [{'entity_type': 'subzone',\n",
       "   'entity_id': 104,\n",
       "   'title': 'Connaught Place, New Delhi',\n",
       "   'latitude': 28.632832,\n",
       "   'longitude': 77.219688,\n",
       "   'city_id': 1,\n",
       "   'city_name': 'Delhi NCR',\n",
       "   'country_id': 1,\n",
       "   'country_name': 'India'}],\n",
       " 'status': 'success',\n",
       " 'has_more': 0,\n",
       " 'has_total': 0,\n",
       " 'user_has_addresses': True}"
      ]
     },
     "execution_count": 13,
     "metadata": {},
     "output_type": "execute_result"
    }
   ],
   "source": [
    "data=c.json()\n",
    "data"
   ]
  },
  {
   "cell_type": "code",
   "execution_count": 26,
   "metadata": {},
   "outputs": [],
   "source": [
    "data2=data['location_suggestions']"
   ]
  },
  {
   "cell_type": "code",
   "execution_count": 28,
   "metadata": {},
   "outputs": [
    {
     "name": "stdout",
     "output_type": "stream",
     "text": [
      "subzone | 104 | Connaught Place, New Delhi\n"
     ]
    }
   ],
   "source": [
    "print(data2[0]['entity_type'],'|',data2[0]['entity_id'],'|',data2[0]['title'])"
   ]
  },
  {
   "cell_type": "code",
   "execution_count": 30,
   "metadata": {},
   "outputs": [
    {
     "name": "stdout",
     "output_type": "stream",
     "text": [
      "28.632832 | 77.219688\n"
     ]
    }
   ],
   "source": [
    "print(data2[0]['latitude'],'|',data2[0]['longitude'])"
   ]
  }
 ],
 "metadata": {
  "kernelspec": {
   "display_name": "Python 3",
   "language": "python",
   "name": "python3"
  },
  "language_info": {
   "codemirror_mode": {
    "name": "ipython",
    "version": 3
   },
   "file_extension": ".py",
   "mimetype": "text/x-python",
   "name": "python",
   "nbconvert_exporter": "python",
   "pygments_lexer": "ipython3",
   "version": "3.7.1"
  }
 },
 "nbformat": 4,
 "nbformat_minor": 2
}
