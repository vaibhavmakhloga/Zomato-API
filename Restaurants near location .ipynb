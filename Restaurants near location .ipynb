{
 "cells": [
  {
   "cell_type": "code",
   "execution_count": 1,
   "metadata": {},
   "outputs": [],
   "source": [
    "# Find Top rated Restaurants which serve BBQ near a location \n",
    "import pandas as pd\n",
    "import requests\n",
    "import json\n",
    "from requests.auth import HTTPBasicAuth\n",
    "import config "
   ]
  },
  {
   "cell_type": "code",
   "execution_count": 12,
   "metadata": {},
   "outputs": [],
   "source": [
    "h={\"X-Zomato-API-Key\":config.API_KEY}\n",
    "bbq_cuisine_id='193'\n",
    "latitude='28.697552'\n",
    "longitude='77.140622'\n",
    "query=f'https://developers.zomato.com/api/v2.1/search?count=10&lat={latitude}&lon={longitude}&cuisines={bbq_cuisine_id}&sort=real_distance'"
   ]
  },
  {
   "cell_type": "code",
   "execution_count": 13,
   "metadata": {},
   "outputs": [
    {
     "name": "stdout",
     "output_type": "stream",
     "text": [
      "Themis Barbecue House | 18204820 | Netaji Subhash Place\n",
      "Barbeque Nation | 9561 | Netaji Subhash Place\n",
      "New Bombay Bar-Be-Que | 5303 | Prashant Vihar\n",
      "UBQ by Barbeque Nation | 19082741 | Lawrence Road\n",
      "Moet's Barbeque | 19238917 | Alipur\n",
      "UBQ by Barbeque Nation | 18889760 | Rohini\n",
      "Kays Bar-Be-Que | 3079 | Ashok Vihar Phase 1\n",
      "7teen BBQ Bistro Bnq | 18595610 | Moti Nagar\n",
      "Pishori Chicken | 19061375 | Kirti Nagar\n",
      "Hunger On Wheels | 19054336 | Vijay Nagar\n"
     ]
    }
   ],
   "source": [
    "response=requests.get(query,headers=h,)\n",
    "data=response.json()\n",
    "data_Two=data['restaurants']\n",
    "for i in range(len(data_Two)):\n",
    "    print(data_Two[i]['restaurant']['name'],'|',data_Two[i]['restaurant']['id'],'|',data_Two[i]['restaurant']['location']['locality'])"
   ]
  }
 ],
 "metadata": {
  "kernelspec": {
   "display_name": "Python 3",
   "language": "python",
   "name": "python3"
  },
  "language_info": {
   "codemirror_mode": {
    "name": "ipython",
    "version": 3
   },
   "file_extension": ".py",
   "mimetype": "text/x-python",
   "name": "python",
   "nbconvert_exporter": "python",
   "pygments_lexer": "ipython3",
   "version": "3.7.1"
  }
 },
 "nbformat": 4,
 "nbformat_minor": 2
}
